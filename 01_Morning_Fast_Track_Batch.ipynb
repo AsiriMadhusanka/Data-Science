{
 "cells": [
  {
   "cell_type": "code",
   "execution_count": 1,
   "id": "ab963496",
   "metadata": {},
   "outputs": [
    {
     "name": "stdout",
     "output_type": "stream",
     "text": [
      "1.24.3\n"
     ]
    }
   ],
   "source": [
    "import numpy as np\n",
    "print(np.__version__)\n"
   ]
  },
  {
   "cell_type": "code",
   "execution_count": 36,
   "id": "6e1dc8a8",
   "metadata": {},
   "outputs": [
    {
     "name": "stdout",
     "output_type": "stream",
     "text": [
      "[10.2, 20.25, 30.36, 40, 50, 70, 80, 90]\n",
      "[10.2  20.25 30.36 40.   50.   70.   80.   90.  ]\n",
      "[110.2  120.25 130.36 140.   150.   170.   180.   190.  ]\n"
     ]
    }
   ],
   "source": [
    "a = [10.2,20.25,30.36,40,50,70,80,90]\n",
    "print(a)\n",
    "b = np.array(a)\n",
    "print(b)\n",
    "print(b+100)"
   ]
  },
  {
   "cell_type": "code",
   "execution_count": 34,
   "id": "a0a650a1",
   "metadata": {},
   "outputs": [
    {
     "data": {
      "text/plain": [
       "dtype('float64')"
      ]
     },
     "execution_count": 34,
     "metadata": {},
     "output_type": "execute_result"
    }
   ],
   "source": [
    "b.shape\n",
    "b.dtype"
   ]
  },
  {
   "cell_type": "code",
   "execution_count": 41,
   "id": "ff0429ae",
   "metadata": {},
   "outputs": [
    {
     "name": "stdout",
     "output_type": "stream",
     "text": [
      "[[ 1  2  3  4  5  6  7  8  9 10]]\n",
      "[[10.2  20.25 30.36 40.   50.   70.   80.   90.  ]]\n"
     ]
    }
   ],
   "source": [
    "d = np.array([1,2,3,4,5,6,7,8,9,10], ndmin = 2)\n",
    "print(d)\n",
    "\n",
    "c = np.array(a, ndmin = 2)\n",
    "print(c)"
   ]
  },
  {
   "cell_type": "code",
   "execution_count": 44,
   "id": "02c44b0b",
   "metadata": {},
   "outputs": [
    {
     "data": {
      "text/plain": [
       "dtype('int32')"
      ]
     },
     "execution_count": 44,
     "metadata": {},
     "output_type": "execute_result"
    }
   ],
   "source": [
    "d.shape\n",
    "d.dtype"
   ]
  },
  {
   "cell_type": "code",
   "execution_count": 49,
   "id": "aa050ded",
   "metadata": {},
   "outputs": [
    {
     "name": "stdout",
     "output_type": "stream",
     "text": [
      "[ 1.+0.j  2.+0.j  3.+0.j  4.+0.j  5.+0.j  6.+0.j  7.+0.j  8.+0.j  9.+0.j\n",
      " 10.+0.j]\n",
      "[[10.2 +0.j 20.25+0.j 30.36+0.j 40.  +0.j 50.  +0.j 70.  +0.j 80.  +0.j\n",
      "  90.  +0.j]]\n"
     ]
    }
   ],
   "source": [
    "d = np.array([1,2,3,4,5,6,7,8,9,10], dtype = complex)\n",
    "print(d)\n",
    "\n",
    "c = np.array(a, ndmin = 2, dtype = complex)\n",
    "print(c)"
   ]
  },
  {
   "cell_type": "code",
   "execution_count": 50,
   "id": "4441f2af",
   "metadata": {},
   "outputs": [
    {
     "data": {
      "text/plain": [
       "dtype('complex128')"
      ]
     },
     "execution_count": 50,
     "metadata": {},
     "output_type": "execute_result"
    }
   ],
   "source": [
    "d.dtype"
   ]
  },
  {
   "cell_type": "code",
   "execution_count": 53,
   "id": "fb2a13b2",
   "metadata": {},
   "outputs": [
    {
     "name": "stdout",
     "output_type": "stream",
     "text": [
      "(2, 4)\n",
      "[[10 20 30 40]\n",
      " [50 70 80 90]]\n"
     ]
    }
   ],
   "source": [
    "a = [[10,20,30,40],[50,70,80,90]]\n",
    "b = np.array(a)\n",
    "print(b.shape)\n",
    "print(b)\n"
   ]
  },
  {
   "cell_type": "code",
   "execution_count": 54,
   "id": "d6bef7bc",
   "metadata": {},
   "outputs": [
    {
     "data": {
      "text/plain": [
       "(2, 4)"
      ]
     },
     "execution_count": 54,
     "metadata": {},
     "output_type": "execute_result"
    }
   ],
   "source": [
    "a = np.array([[10,20,30,40],[50,70,80,90]])\n",
    "a.shape"
   ]
  },
  {
   "cell_type": "code",
   "execution_count": 57,
   "id": "59864ce6",
   "metadata": {},
   "outputs": [
    {
     "name": "stdout",
     "output_type": "stream",
     "text": [
      "(2, 2, 3)\n",
      "[[[10 20 30]\n",
      "  [40 50 70]]\n",
      "\n",
      " [[80 90 60]\n",
      "  [10 20 30]]]\n"
     ]
    }
   ],
   "source": [
    "a = np.array([[[10,20,30],[40,50,70]],[[80,90,60],[10,20,30]]])\n",
    "print(a.shape)\n",
    "print(a)"
   ]
  },
  {
   "cell_type": "code",
   "execution_count": 59,
   "id": "646b280b",
   "metadata": {},
   "outputs": [
    {
     "name": "stdout",
     "output_type": "stream",
     "text": [
      "(4, 3)\n",
      "[[10 20 30]\n",
      " [40 50 70]\n",
      " [80 90 60]\n",
      " [10 20 30]]\n"
     ]
    }
   ],
   "source": [
    "a = np.array([[10,20,30],[40,50,70],[80,90,60],[10,20,30]])\n",
    "print(a.shape)\n",
    "print(a)"
   ]
  },
  {
   "cell_type": "code",
   "execution_count": 64,
   "id": "bba52559",
   "metadata": {},
   "outputs": [
    {
     "name": "stdout",
     "output_type": "stream",
     "text": [
      "(3, 4)\n",
      "[[10 20 30 40]\n",
      " [50 70 80 90]\n",
      " [60 10 20 30]]\n"
     ]
    }
   ],
   "source": [
    "a.shape = (3,4)\n",
    "print(a.shape)\n",
    "print(a)"
   ]
  },
  {
   "cell_type": "code",
   "execution_count": null,
   "id": "cf458cf1",
   "metadata": {},
   "outputs": [],
   "source": []
  }
 ],
 "metadata": {
  "kernelspec": {
   "display_name": "Python 3 (ipykernel)",
   "language": "python",
   "name": "python3"
  },
  "language_info": {
   "codemirror_mode": {
    "name": "ipython",
    "version": 3
   },
   "file_extension": ".py",
   "mimetype": "text/x-python",
   "name": "python",
   "nbconvert_exporter": "python",
   "pygments_lexer": "ipython3",
   "version": "3.11.4"
  }
 },
 "nbformat": 4,
 "nbformat_minor": 5
}
